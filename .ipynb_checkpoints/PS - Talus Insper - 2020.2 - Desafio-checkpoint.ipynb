{
 "cells": [
  {
   "cell_type": "markdown",
   "metadata": {},
   "source": [
    "# PROCESSO SELETIVO TALUS INSPER 2020.2"
   ]
  },
  {
   "cell_type": "markdown",
   "metadata": {},
   "source": [
    "Olá! Esse é o Jupyter com o desafio do processo seletivo para a Talus!\n",
    "\n",
    "É aqui que deve ser posta a resolução do desafio que iremos propor e nenhum outro material entregue junto com este será considerado. Antes de continuarmos para o desafio, precisamos que você se identifique (usuários não identificados podem até passar, mas não receberão notificação &#128521;\n",
    "\n",
    "Edite essa célula e\n",
    "\n",
    "<font color='red'>Paulo Wook Kim</font>\n",
    "\n",
    "<font color='red'>paulowk@al.insper.edu.br</font>\n",
    "\n",
    "Se você tiver um usuário do Discord\n",
    "\n",
    "<font color='red'>Paulokim1</font>\n",
    "\n",
    "Lembre que não é obrigatório Discord nessa etapa, mas ambas Segunda e Terceira Fase serão realizadas por lá. Nós estamos num servidor do Discord especial feito pra vocês, você pode passar lá e tirar dúvidas com nossos membros a qualquer momento."
   ]
  },
  {
   "cell_type": "markdown",
   "metadata": {},
   "source": [
    "## Regras do desafio\n",
    "\n",
    "O desafio que propomos aqui é construir um modelo de regressão linear simples para apenas uma variável.\n",
    "\n",
    "Existem diversas maneiras de fazer isso, a maneira que iremos explicar aqui, e que você deverá reproduzir, é o método de Gradient Descent. Qualquer outro método que não este __NÃO__ será considerado.\n",
    "\n",
    "Uma análise exploratória dos dados não é obrigatória e nem mesmo necessária!\n",
    "\n",
    "Por último, vale frisar: a utilização de pacotes com funções que cortem passos ou que façam o trabalho por você resultará na nulidade de sua solução e __NÃO__ será considerado também.\n",
    "\n",
    "No entanto, você pode usar os pacotes que foram ensinados no arquivo de tutorial para esse desafio.\n",
    "\n",
    "Você irá achar algumas células com código, elas servem para guiar você, mas não são obrigatórias! E você não precisa usar a estrutura que propomos, mas deve seguir o roteiro que se encontra no fim do desafio!\n",
    "\n",
    "Boa sorte, nós estamos esperando por você na Talus!"
   ]
  },
  {
   "cell_type": "markdown",
   "metadata": {},
   "source": [
    "## Proposta de desafio\n",
    "\n",
    "Como dito, o seu desafio será transformar em código a teoria sobre modelos de regressão linear que será ensinada aqui.\n",
    "\n",
    "Você usará o código que criou para prever o comportamento de uma variável em função de outra, estas podem ser achadas no dataset 'desafio.csv' na pasta data. As variáveis foram geradas manualmente por nós e portanto asseguramos que existe uma relação linear entre elas.\n",
    "\n",
    "No nosso dataset, a variável que será prevista é a variável y. Não existe um valor a ser batido, mas existem com certeza valores visivelmente incorretos. Seu código não será avaliado apenas pelo valor dos coeficientes, mas também (e principalmente) pela qualidade do código."
   ]
  },
  {
   "cell_type": "markdown",
   "metadata": {},
   "source": [
    "## Explicação do modelo\n",
    "\n",
    "Sem entrarmos nos detalhes matemáticos (você irá aprender isso conosco depois), uma regressão linear é um modelo capaz de computar o valor de uma variável através de uma soma com pesos de outras variáveis mais a adição de uma constante (também chamada de viés ou intercepto). De maneira geral, uma relação linear entre variáveis pode ser expressa por:\n",
    "\n",
    "$$y = \\theta_0 + \\theta_1x_1 + \\theta_2x_2 + ... \\theta_nx_n$$\n",
    "\n",
    "Aqui trataremos apenas do caso $n = 1$, sendo $n$ o número de features ou inputs do nosso modelo.\n",
    "\n",
    "Nessa equação, $\\theta_i$ é o parâmetro da feature $i$ sendo $\\theta_0$ o viés."
   ]
  },
  {
   "cell_type": "code",
   "execution_count": 1,
   "metadata": {},
   "outputs": [],
   "source": [
    "import pandas as pd \n",
    "import numpy as np \n",
    "\n",
    "dataset = pd.read_csv('data/desafio.csv')\n",
    "\n",
    "#definindo os arrays do X e y \n",
    "X = np.array(dataset.X) \n",
    "y = np.array(dataset.y)"
   ]
  },
  {
   "cell_type": "markdown",
   "metadata": {},
   "source": [
    "Os algoritmos de regressão linear servem para acharmos, de maneira mais eficiente, os parâmetros $\\theta$ de nosso modelo, definida uma métrica.\n",
    "\n",
    "Portanto, antes de falarmos como construirmos e treinarmos um modelo desses, é preciso definir nossa métrica.\n",
    "\n",
    "Existem diversas métricas de avaliação quando falamos de modelos lineares, a mais popular e que usaremos aqui é o __Erro Quadrático Médio__ ou (EQM) que é dado por:\n",
    "\n",
    "$$EQM(ŷ) = \\frac{1}{m}\\sum^m_{i=1}(ŷ_i - y_i)²$$\n",
    "\n",
    "Onde:\n",
    "\n",
    "$m$ é o número de amostras usada no modelo;\n",
    "\n",
    "$ŷ$ é o valor previsto por nosso modelo;\n",
    "\n",
    "$y$ é o valor real da variável prevista.\n",
    "\n",
    "Substituindo a equação linear na fórmula do EQM ficamos com:\n",
    "\n",
    "$$EQM(ŷ) = \\frac{1}{m}\\sum^m_{i=1}(\\theta_1{x_1}_i + \\theta_0 - y_i)²$$\n",
    "\n",
    "E, portanto, vemos que $EQM$ depende do termo quadrático de $\\theta_1$ e $\\theta_0$."
   ]
  },
  {
   "cell_type": "code",
   "execution_count": 2,
   "metadata": {},
   "outputs": [],
   "source": [
    "m = len(X) # o número de amostras usado no modelo é justamente o tamnho do array de X \n",
    "\n",
    "def calcula_eqm(theta_0, theta_1):\n",
    "    soma = 0 \n",
    "    for i in range(m):\n",
    "        soma += (theta_0 + theta_1*X[i] - y[i])**2\n",
    "    \n",
    "    eqm = (1/m)*soma\n",
    "    \n",
    "    return eqm"
   ]
  },
  {
   "cell_type": "markdown",
   "metadata": {},
   "source": [
    "Como dito, existem várias maneiras de encontrar os parâmetros do nosso modelo, inclusive, um método bem mais simples do que o que vamos ensinar (mas que é BEM mais lento para uma quantidade grande de dados).\n",
    "\n",
    "O método que usaremos se chama *Gradient Descent*, ele é um algoritmo, ou melhor, uma família de algoritmos, bem simples e genérico capaz de encontrar os parâmetros de nossa regressão de uma maneira mais rápida, objetivando minimizar o valor do nosso erro, o $EQM$.\n",
    "\n",
    "Esse método consiste de inicializar, aleatoriamente, o valor dos parâmetros e, iterativamente, modificar esse valor em função do erro obtido.\n",
    "\n",
    "Para explicar bem o procedimento, vamos supor $\\theta_0$ (ou $\\theta_1$) constante. Nesse caso, teríamos que $EQM$ é uma função quadrática de $\\theta_1$, ou seja, uma parábola.\n",
    "\n",
    "Nesse caso, o gráfico de $EQM$ x $\\theta_1$ seria semelhante a:\n",
    "\n",
    "<img src=\"https://cdn-images-1.medium.com/max/600/1*iNPHcCxIvcm7RwkRaMTx1g.jpeg\" height=\"400\" width=\"600\">\n",
    "\n",
    "Onde cost é a função de custo, que no caso é $EQM$.\n",
    "\n",
    "O que queremos é dar, pequenos \"passos\", modificando $\\theta_1$ até alcançarmos aquele que minimiza nosso erro.\n",
    "\n",
    "Caso você não tenha entedido ainda, façamos um exercício de imaginação: imagine que você esteja preso no topo de uma montanha durante uma névoa muito densa, deixando de lado suas habilidades de alpinismo, uma maneira de achar a base da montanha seria deslizar seu pé no chão até achar a direção de descida e então dar pequenos passos nessa direção, é exatamente isso que vamos fazer aqui.\n",
    "\n",
    "O learning step no nosso gráfico seria o tamanho do passo que você daria na montanha e a direção que seu pé indicaria seria o quê? Vamos ver isso agora.\n",
    "\n",
    "Ah, e claro você esteja se coçando que não resolvemos o caso real, com $n$ features, calma, não é o foco desse desafio e não é muito diferente da ideia que mostramos aqui, você só teria que ter uma abstração maior para desenhar o gráfico.\n",
    "\n",
    "<img src=\"https://miro.medium.com/max/1098/1*yasmQ5kvlmbYMe8eDkyl6w.png\" height=\"400\" width=\"600\">"
   ]
  },
  {
   "cell_type": "markdown",
   "metadata": {},
   "source": [
    "Tá certo, mas antes de falar sobre a direção do passo, é importante falarmos algo sobre o learning step, ou learning rate como iremos chamar agora.\n",
    "\n",
    "Você se perguntou qual o valor que o learning rate deveria ter? Bom, nós não vamos te dar uma resposta sobre isso, mas vamos te mostrar o que o valor que você escolheu poderia resultar.\n",
    "\n",
    "Se você escolher um learning rate muito pequeno, o seu modelo precisaria de muito mais iterações e execuções para achar o valor de mínimo. É o equivalente a você dar passos que mal separam suas pernas tentando descer a montanha.\n",
    "\n",
    "Já um learning rate muito grande corre o risco de passar do local de mínimo.\n",
    "\n",
    "Veja essas imagens que exemplificam bem isso, mostrando um caso com learning rate pequeno e outro com learning rate muito grande, respectivamente:\n",
    "\n",
    "<div style=\"display: block\">\n",
    "<img src=\"./img/small_lr.png\" height=\"400\" width=\"600\">\n",
    "\n",
    "<img src=\"./img/large_lr.png\" height=\"400\" width=\"600\">\n",
    "</div>\n",
    "\n",
    "O learning rate também é importante para se esquivar de mínimos locais, mas você não precisa se preocupar com isso aqui."
   ]
  },
  {
   "cell_type": "code",
   "execution_count": 3,
   "metadata": {},
   "outputs": [],
   "source": [
    "#definindo os parâmetros iniciais\n",
    "\n",
    "theta_0_ini = np.random.rand()\n",
    "theta_1_ini = np.random.rand()\n",
    "\n",
    "learning_rate = 0.1 # Como os parâmetros variam de 0 a 1, decidi usar um learning rate que nem seja tão alto e nem tão baixo"
   ]
  },
  {
   "cell_type": "markdown",
   "metadata": {},
   "source": [
    "Okay, agora vamos pro último fundamento (e o mais importante) pra que você possa concluir o desafio.\n",
    "\n",
    "A análogo matemático da direção do seu passo tentando descer da montanha é o que dá nome a esse algoritmo, o *Gradiente*.\n",
    "\n",
    "Imaginamos que você esteja familiarizado com o conceito de derivada. Imagine no primeiro gráfico que lhe apresentamos que você tivesse que apontar a direção para onde o valor de $\\theta$ precisa andar, talvez você tenha feito com o dedo uma linha tangente apontando para o próximo ponto do gráfico.\n",
    "\n",
    "Devemos achar a tangente, ou mais especificamente, o coeficiente angular desta, para encontrarmos a direção que devemos seguir a fim de minimizar nossa função.\n",
    "\n",
    "E, uma luz pode ter acendido em você, indicando o que será necessário para tal feito: as derivadas.\n",
    "\n",
    "Se calcularmos a derivada para $\\theta_0$ e $\\theta_1$ teríamos:\n",
    "\n",
    "$$\\frac{\\partial}{\\partial\\theta_0}EQM = \\frac{2}{m}\\sum^m_{i=1}(\\theta_1{x_1}_i + \\theta_0 - y_i)$$\n",
    "\n",
    "$$\\frac{\\partial}{\\partial\\theta_1}EQM = \\frac{2}{m}\\sum^m_{i=1}(\\theta_1{x_1}_i + \\theta_0 - y_i){x_1}_i$$\n",
    "\n",
    "O símbolo pode parecer diferente, mas a ideia é a mesma, é que nesse caso estamos falando de derivada parcial.\n",
    "\n",
    "Ah, e o motivo do nome gradiente, vem porque um gradiente basicamente é um vetor formado pela derivada parcial das variáveis de que depende uma função e indico sentido e a direção cujo deslocamento maximiza ou minimiza um valor especificado."
   ]
  },
  {
   "cell_type": "code",
   "execution_count": 4,
   "metadata": {},
   "outputs": [],
   "source": [
    "# definindo as funções que calculam as derivadas parciais \n",
    "\n",
    "def dif_theta_0(theta_0, theta_1):\n",
    "    soma = 0 \n",
    "    for i in range(m):\n",
    "        soma += (theta_0 + theta_1*X[i] - y[i])\n",
    "    \n",
    "    der_par_theta_0 = (2/m)*soma\n",
    "    \n",
    "    return der_par_theta_0\n",
    "    \n",
    "def dif_theta_1(theta_0, theta_1):\n",
    "    soma = 0 \n",
    "    for i in range(m):\n",
    "        soma += (theta_0 + theta_1*X[i] - y[i])*X[i]\n",
    "\n",
    "    der_par_theta_1 = (2/m)*soma\n",
    "\n",
    "    return der_par_theta_1"
   ]
  },
  {
   "cell_type": "markdown",
   "metadata": {},
   "source": [
    "Okay, agora você tem tudo que precisa para montar o modelo, juntando todas as ideias obtidas até aqui, o processo por meio do qual você irá iterar os parâmetros da sua regressão é o seguinte:\n",
    "\n",
    "$$\\theta_{i+1} = \\theta_{i} - \\mu\\frac{\\partial}{\\partial\\theta}EQM$$\n",
    "\n",
    "Onde\n",
    "\n",
    "$\\theta_i$ é o valor de $\\theta$ (0 ou 1) na i-ésima iteração;\n",
    "\n",
    "$\\mu$ é o learning rate.\n",
    "\n",
    "Com isso, você pode achar o parâmetros da regressão."
   ]
  },
  {
   "cell_type": "code",
   "execution_count": 5,
   "metadata": {},
   "outputs": [],
   "source": [
    "# função que acha os parâmetros da regrssão\n",
    "\n",
    "def itera_theta(k, v, mi, n):   # n é o número de iterações --- mi é o learning rate --- k,v são os parâmetros iniciais \n",
    "    theta_0 = k\n",
    "    theta_1 = v\n",
    "    \n",
    "    for i in range(n):\n",
    "        theta_0 -= mi*dif_theta_0(theta_0, theta_1)    \n",
    "        theta_1 -= mi*dif_theta_1(theta_0, theta_1)\n",
    "        \n",
    "    return theta_0, theta_1"
   ]
  },
  {
   "cell_type": "markdown",
   "metadata": {},
   "source": [
    "Pronto, a partir daqui é com você. Mas nós vamos dar mais uma mãozinha. Nós preparamos um roteiro e __ATENÇÃO__ todos os pontos são __OBRIGATÓRIOS__ mas a execução é totalmente por sua conta.\n",
    "\n",
    "- Leia o arquivo \"desafio.csv\" na pasta data\n",
    "- Obtenha as variáveis X e y no dataset\n",
    "- Inicialize (e deixe bem claro onde fez isso) os parâmetros de seu modelo:\n",
    "    - Learning rate;\n",
    "    - Número de iterações;\n",
    "    - Número de amostras;\n",
    "    - $\\theta_0$ e $\\theta_1$ iniciais, gerados aleatoriamente.\n",
    "- Desenvolva a função que calcula EQM\n",
    "- Desenvolva uma (ou duas) funções que devolva a derivada parcial de EQM para cada um dos $\\theta$\n",
    "- Desenvolva a função que itera $\\theta_0$ e $\\theta_1$ e devolva os valores finais\n",
    "- Plote um gráfico contendo:\n",
    "    - Os valores reais de X e y\n",
    "    - A reta formada pelos valores de $\\theta$ encontrados por você\n",
    "    \n",
    "Ainda que você não consiga concretizar um dos passos, NÃO desista. Novamente, o foco não é no resultado, mas na qualidade de seu código.\n",
    "\n",
    "__BOA SORTE!__"
   ]
  },
  {
   "cell_type": "code",
   "execution_count": 6,
   "metadata": {},
   "outputs": [],
   "source": [
    "import matplotlib.pyplot as plt "
   ]
  },
  {
   "cell_type": "code",
   "execution_count": 7,
   "metadata": {},
   "outputs": [],
   "source": [
    "num_iter = 150  # número iterações que eu gostaria de atribuir \n",
    "b,a = itera_theta(theta_0_ini,theta_1_ini,learning_rate,num_iter) # os coeficientes a e b recebem os respectivos parâmetros para a regressão\n",
    "\n",
    "y_valor_previsto = []\n",
    "\n",
    "for i in X:   # loop utilizado para calcular o valor previsto e guardar no array \"y_valor_previsto\"\n",
    "    y_valor_previsto.append(a*i + b)"
   ]
  },
  {
   "cell_type": "code",
   "execution_count": 8,
   "metadata": {},
   "outputs": [
    {
     "data": {
      "image/png": "[encoded data removed]",
      "text/plain": [
       "<Figure size 432x288 with 1 Axes>"
      ]
     },
     "metadata": {
      "needs_background": "light"
     },
     "output_type": "display_data"
    }
   ],
   "source": [
    "# Plotando o gráfico\n",
    "\n",
    "plt.scatter(X,y,alpha = 0.4,label = 'Dados reais')\n",
    "plt.plot(X,y_valor_previsto, 'r',label ='Relação linear' )\n",
    "plt.xlabel('X')\n",
    "plt.ylabel('y')\n",
    "plt.legend()\n",
    "plt.show()"
   ]
  }
 ],
 "metadata": {
  "kernelspec": {
   "display_name": "Python 3",
   "language": "python",
   "name": "python3"
  },
  "language_info": {
   "codemirror_mode": {
    "name": "ipython",
    "version": 3
   },
   "file_extension": ".py",
   "mimetype": "text/x-python",
   "name": "python",
   "nbconvert_exporter": "python",
   "pygments_lexer": "ipython3",
   "version": "3.7.6"
  }
 },
 "nbformat": 4,
 "nbformat_minor": 4
}
